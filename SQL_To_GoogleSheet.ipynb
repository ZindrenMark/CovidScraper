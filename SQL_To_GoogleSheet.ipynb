{
 "cells": [
  {
   "cell_type": "code",
   "execution_count": 2,
   "metadata": {},
   "outputs": [],
   "source": [
    "import gspread\n",
    "from oauth2client.service_account import ServiceAccountCredentials\n",
    "import os\n",
    "import pandas as pd\n",
    "import pyodbc"
   ]
  },
  {
   "cell_type": "markdown",
   "metadata": {},
   "source": [
    "Change the filepath to where JSON authentication file is located"
   ]
  },
  {
   "cell_type": "code",
   "execution_count": 3,
   "metadata": {},
   "outputs": [],
   "source": [
    "path = 'Downloads'\n",
    "os.chdir(path)"
   ]
  },
  {
   "cell_type": "markdown",
   "metadata": {},
   "source": [
    "Code to connect to the Google Drive API"
   ]
  },
  {
   "cell_type": "code",
   "execution_count": 4,
   "metadata": {},
   "outputs": [],
   "source": [
    "scope = ['https://spreadsheets.google.com/feeds','https://www.googleapis.com/auth/drive']\n",
    "creds = ServiceAccountCredentials.from_json_keyfile_name('CovidData-63b330342298.json', scope)\n",
    "client = gspread.authorize(creds)"
   ]
  },
  {
   "cell_type": "markdown",
   "metadata": {},
   "source": [
    "Open the Workbook named \"Covid_Tracker\" on Google Sheets"
   ]
  },
  {
   "cell_type": "code",
   "execution_count": 5,
   "metadata": {},
   "outputs": [],
   "source": [
    "sheet = client.open('Covid_Tracker')"
   ]
  },
  {
   "cell_type": "markdown",
   "metadata": {},
   "source": [
    "Connect to two sheets within the Covid_Tracker workbook, Cases & Deaths"
   ]
  },
  {
   "cell_type": "code",
   "execution_count": 6,
   "metadata": {},
   "outputs": [],
   "source": [
    "CasesSheet = sheet.worksheet(\"Cases\")\n",
    "DeathsSheet = sheet.worksheet(\"Deaths\")"
   ]
  },
  {
   "cell_type": "markdown",
   "metadata": {},
   "source": [
    "Connect to local SQL database hosting the Covid Data"
   ]
  },
  {
   "cell_type": "code",
   "execution_count": 7,
   "metadata": {},
   "outputs": [],
   "source": [
    "conn = pyodbc.connect('Driver={SQL Server};'\n",
    "                      'Server=LAPTOP-4KUL2T84\\SQLEXPRESS;'\n",
    "                      'Database=Covid;'\n",
    "                      'Trusted_Connection=yes;')"
   ]
  },
  {
   "cell_type": "markdown",
   "metadata": {},
   "source": [
    "Pull down two sql queries and convert them into pandas dataframes"
   ]
  },
  {
   "cell_type": "code",
   "execution_count": 8,
   "metadata": {},
   "outputs": [],
   "source": [
    "Cases_Query = pd.read_sql_query(\n",
    "\n",
    "'''\n",
    "    SELECT Cases, Ward, Date\n",
    "    FROM Cases\n",
    "    Inner JOIN Wards ON Cases.WardID=Wards.WardID;\n",
    "'''\n",
    "    , conn)\n",
    "dfCasesPull = pd.DataFrame(Cases_Query)\n",
    "\n",
    "Deaths_Query = pd.read_sql_query(\n",
    "\n",
    "'''\n",
    "    SELECT Deaths, Ward, Date\n",
    "    FROM Deaths\n",
    "    Inner JOIN Wards ON Deaths.WardID=Wards.WardID;\n",
    "'''\n",
    "    , conn)\n",
    "dfDeathsPull = pd.DataFrame(Deaths_Query)\n"
   ]
  },
  {
   "cell_type": "markdown",
   "metadata": {},
   "source": [
    "Push these respective dataframes into Google Sheets"
   ]
  },
  {
   "cell_type": "code",
   "execution_count": 9,
   "metadata": {},
   "outputs": [
    {
     "data": {
      "text/plain": [
       "{'spreadsheetId': '1le3E0imbMVbxxTZyKsbCxMxfIg4_o3O9uCvgzXDroFc',\n",
       " 'updatedRange': 'Cases!A1:C469',\n",
       " 'updatedRows': 469,\n",
       " 'updatedColumns': 3,\n",
       " 'updatedCells': 1407}"
      ]
     },
     "execution_count": 9,
     "metadata": {},
     "output_type": "execute_result"
    }
   ],
   "source": [
    "DeathsSheet.update([dfDeathsPull.columns.values.tolist()] + dfDeathsPull.values.tolist())\n",
    "CasesSheet.update([dfCasesPull.columns.values.tolist()] + dfCasesPull.values.tolist())\n"
   ]
  },
  {
   "cell_type": "code",
   "execution_count": null,
   "metadata": {},
   "outputs": [],
   "source": []
  }
 ],
 "metadata": {
  "kernelspec": {
   "display_name": "Python 3",
   "language": "python",
   "name": "python3"
  },
  "language_info": {
   "codemirror_mode": {
    "name": "ipython",
    "version": 3
   },
   "file_extension": ".py",
   "mimetype": "text/x-python",
   "name": "python",
   "nbconvert_exporter": "python",
   "pygments_lexer": "ipython3",
   "version": "3.7.3"
  }
 },
 "nbformat": 4,
 "nbformat_minor": 2
}
