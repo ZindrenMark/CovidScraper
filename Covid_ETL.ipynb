{
 "cells": [
  {
   "cell_type": "markdown",
   "metadata": {},
   "source": [
    "Import packages"
   ]
  },
  {
   "cell_type": "code",
   "execution_count": 1,
   "metadata": {},
   "outputs": [],
   "source": [
    "import os\n",
    "import pandas as pd\n",
    "import pandas.io.sql\n",
    "import pyodbc\n",
    "import logging"
   ]
  },
  {
   "cell_type": "markdown",
   "metadata": {},
   "source": [
    "Set logging to INFO level"
   ]
  },
  {
   "cell_type": "code",
   "execution_count": 2,
   "metadata": {},
   "outputs": [],
   "source": [
    "logging.basicConfig( filename='C:/Users/Mark/Documents/example.txt',level=logging.WARNING, format='%(asctime)s %(message)s') "
   ]
  },
  {
   "cell_type": "markdown",
   "metadata": {},
   "source": [
    "Set filepath to file location"
   ]
  },
  {
   "cell_type": "code",
   "execution_count": 3,
   "metadata": {},
   "outputs": [],
   "source": [
    "filepath1 = 'C:/Users/Mark/Documents/DC_COVID.xlsx'\n",
    "logging.info('File path is set to ' + filepath1)\n",
    "\n",
    "filetail = os.path.basename(filepath1)\n",
    "# print (filetail)\n",
    "\n",
    "list1 = (filetail.split('.'))\n",
    "filetail = (list1[0])"
   ]
  },
  {
   "cell_type": "code",
   "execution_count": 4,
   "metadata": {
    "scrolled": true
   },
   "outputs": [],
   "source": [
    "xls = pd.ExcelFile(filepath1)"
   ]
  },
  {
   "cell_type": "code",
   "execution_count": 5,
   "metadata": {},
   "outputs": [],
   "source": [
    "#xls.sheet_names\n",
    "#Kept here in case need to check the names of the excel sheet"
   ]
  },
  {
   "cell_type": "markdown",
   "metadata": {},
   "source": [
    "Load the excel tables into two dataframes. Export them to for auditing in case of error. \n",
    "File names RawCases.csv and RawDeaths.csv"
   ]
  },
  {
   "cell_type": "code",
   "execution_count": 6,
   "metadata": {},
   "outputs": [],
   "source": [
    "dfRawCases = pd.read_excel(xls, 'Total Cases by Ward', header=1)\n",
    "dfRawDeaths = pd.read_excel(xls, 'Lives Lost by Ward', header=1)\n",
    "\n",
    "dfRawCases.to_csv('C:/Users/Mark/Documents/RawCases_' + filetail +'.csv')\n",
    "dfRawDeaths.to_csv('C:/Users/Mark/Documents/RawDeaths.csv')\n",
    "\n",
    "logging.info('Files loaded and exported to csv')"
   ]
  },
  {
   "cell_type": "markdown",
   "metadata": {},
   "source": [
    "Pivot Data "
   ]
  },
  {
   "cell_type": "code",
   "execution_count": 7,
   "metadata": {},
   "outputs": [],
   "source": [
    "dfCases = dfRawCases.melt(id_vars=['Ward'])\n",
    "dfCases = dfCases.rename(columns={'variable': 'Date', 'value': 'Cases'})\n",
    "\n",
    "dfDeaths = dfRawDeaths.melt(id_vars=['Ward'])\n",
    "dfDeaths = dfDeaths.rename(columns={'variable': 'Date', 'value': 'Deaths'})\n",
    "\n",
    "dfCases.to_csv('C:/Users/Mark/Documents/PivotCases.csv')\n",
    "dfDeaths.to_csv('C:/Users/Mark/Documents/PivotDeaths.csv')"
   ]
  },
  {
   "cell_type": "code",
   "execution_count": 8,
   "metadata": {},
   "outputs": [
    {
     "name": "stdout",
     "output_type": "stream",
     "text": [
      "DC_COVID.xlsx\n"
     ]
    }
   ],
   "source": [
    "print(os.path.basename(filepath1))"
   ]
  },
  {
   "cell_type": "markdown",
   "metadata": {},
   "source": [
    "Connect to local database"
   ]
  },
  {
   "cell_type": "code",
   "execution_count": 9,
   "metadata": {},
   "outputs": [],
   "source": [
    "conn = pyodbc.connect('Driver={SQL Server};'\n",
    "                      'Server=LAPTOP-4KUL2T84\\SQLEXPRESS;'\n",
    "                      'Database=Covid;'\n",
    "                      'Trusted_Connection=yes;')\n"
   ]
  },
  {
   "cell_type": "markdown",
   "metadata": {},
   "source": [
    "Save SQL Query into variable to pull everything from Wards table. This will be used to map the Ward names to the Ward ID"
   ]
  },
  {
   "cell_type": "code",
   "execution_count": 10,
   "metadata": {},
   "outputs": [],
   "source": [
    "SQL_Query = pd.read_sql_query(\n",
    "\n",
    "'''\n",
    "    SELECT *\n",
    "    FROM Wards\n",
    "'''\n",
    "    , conn)"
   ]
  },
  {
   "cell_type": "markdown",
   "metadata": {},
   "source": [
    "Pull Wards table in dataframe and switch the columns around. Print out to check"
   ]
  },
  {
   "cell_type": "code",
   "execution_count": 11,
   "metadata": {},
   "outputs": [
    {
     "name": "stdout",
     "output_type": "stream",
     "text": [
      "SQL Table Wards\n",
      "                        Ward  WardID\n",
      "0                          1       1\n",
      "1                          2       2\n",
      "2                          3       3\n",
      "3                          4       4\n",
      "4                          5       5\n",
      "5                          6       6\n",
      "6                          7       7\n",
      "7                          8       8\n",
      "8                    Unknown       9\n",
      "9   Experienced Homelessness      10\n",
      "10                       All      11\n"
     ]
    }
   ],
   "source": [
    "dfSQLPull = pd.DataFrame(SQL_Query)\n",
    "dfSQLPull = dfSQLPull[['Ward','WardID']]\n",
    "print (\"SQL Table Wards\")\n",
    "print (dfSQLPull)"
   ]
  },
  {
   "cell_type": "markdown",
   "metadata": {},
   "source": [
    "Change the datatype to String in order to join the dataframes. Check datatypes to confirm"
   ]
  },
  {
   "cell_type": "code",
   "execution_count": 12,
   "metadata": {},
   "outputs": [
    {
     "name": "stdout",
     "output_type": "stream",
     "text": [
      "Ward      object\n",
      "WardID    object\n",
      "dtype: object\n"
     ]
    }
   ],
   "source": [
    "dfSQLPull['WardID'] = dfSQLPull['WardID'].astype(str)\n",
    "dfSQLPull['Ward'] = dfSQLPull['Ward'].astype(str)\n",
    "dfCases['Ward'] = dfCases['Ward'].astype(str)\n",
    "dfDeaths['Ward'] = dfDeaths['Ward'].astype(str)\n",
    "print (dfSQLPull.dtypes)"
   ]
  },
  {
   "cell_type": "markdown",
   "metadata": {},
   "source": [
    "Merge dataframes to map Wards to IDs"
   ]
  },
  {
   "cell_type": "code",
   "execution_count": 13,
   "metadata": {},
   "outputs": [],
   "source": [
    "dfLoadRawC=pd.merge(dfCases,dfSQLPull, on=\"Ward\")\n",
    "dfLoadRawD=pd.merge(dfDeaths,dfSQLPull, on=\"Ward\")\n",
    "\n",
    "dfLoadRawC.to_csv('C:/Users/Mark/Documents/MergedCases.csv')\n",
    "dfLoadRawD.to_csv('C:/Users/Mark/Documents/MergedDeaths.csv')\n"
   ]
  },
  {
   "cell_type": "markdown",
   "metadata": {},
   "source": [
    "Drop the Ward Column "
   ]
  },
  {
   "cell_type": "code",
   "execution_count": 14,
   "metadata": {},
   "outputs": [],
   "source": [
    "dfLoadRawC = dfLoadRawC.drop(columns=['Ward'])\n",
    "dfLoadRawD = dfLoadRawD.drop(columns=['Ward'])"
   ]
  },
  {
   "cell_type": "markdown",
   "metadata": {},
   "source": [
    "Create ID Columns for both dataframes"
   ]
  },
  {
   "cell_type": "code",
   "execution_count": 15,
   "metadata": {},
   "outputs": [],
   "source": [
    "dfLoadRawC['CaseID'] = dfLoadRawC.index +1\n",
    "dfLoadRawD['DeathID'] = dfLoadRawD.index +1"
   ]
  },
  {
   "cell_type": "markdown",
   "metadata": {},
   "source": [
    "Reorder the columns"
   ]
  },
  {
   "cell_type": "code",
   "execution_count": 16,
   "metadata": {},
   "outputs": [],
   "source": [
    "dfLoadRawC = dfLoadRawC[['CaseID','Date','Cases','WardID']]\n",
    "\n",
    "dfLoadRawD = dfLoadRawD[['DeathID','Date','Deaths','WardID']]"
   ]
  },
  {
   "cell_type": "markdown",
   "metadata": {},
   "source": [
    "Insert the data into the database"
   ]
  },
  {
   "cell_type": "code",
   "execution_count": 18,
   "metadata": {},
   "outputs": [
    {
     "ename": "IntegrityError",
     "evalue": "('23000', \"[23000] [Microsoft][ODBC SQL Server Driver][SQL Server]Violation of PRIMARY KEY constraint 'PK_Deaths'. Cannot insert duplicate key in object 'dbo.Deaths'. The duplicate key value is (1). (2627) (SQLExecDirectW); [23000] [Microsoft][ODBC SQL Server Driver][SQL Server]The statement has been terminated. (3621)\")",
     "output_type": "error",
     "traceback": [
      "\u001b[1;31m---------------------------------------------------------------------------\u001b[0m",
      "\u001b[1;31mIntegrityError\u001b[0m                            Traceback (most recent call last)",
      "\u001b[1;32m<ipython-input-18-9afb74c55f3d>\u001b[0m in \u001b[0;36m<module>\u001b[1;34m\u001b[0m\n\u001b[0;32m      2\u001b[0m \u001b[1;32mfor\u001b[0m \u001b[0mrow\u001b[0m \u001b[1;32min\u001b[0m \u001b[0mdfLoadRawD\u001b[0m\u001b[1;33m.\u001b[0m\u001b[0miterrows\u001b[0m\u001b[1;33m(\u001b[0m\u001b[1;33m)\u001b[0m\u001b[1;33m:\u001b[0m\u001b[1;33m\u001b[0m\u001b[1;33m\u001b[0m\u001b[0m\n\u001b[0;32m      3\u001b[0m     \u001b[0msql\u001b[0m \u001b[1;33m=\u001b[0m \u001b[1;34m'INSERT INTO Deaths ({}) VALUES  ({})'\u001b[0m\u001b[1;33m.\u001b[0m\u001b[0mformat\u001b[0m\u001b[1;33m(\u001b[0m\u001b[1;34m' ,'\u001b[0m\u001b[1;33m.\u001b[0m\u001b[0mjoin\u001b[0m\u001b[1;33m(\u001b[0m\u001b[0mdfLoadRawD\u001b[0m\u001b[1;33m.\u001b[0m\u001b[0mcolumns\u001b[0m\u001b[1;33m)\u001b[0m\u001b[1;33m,\u001b[0m \u001b[1;34m','\u001b[0m\u001b[1;33m.\u001b[0m\u001b[0mjoin\u001b[0m\u001b[1;33m(\u001b[0m\u001b[1;33m[\u001b[0m\u001b[1;34m'?'\u001b[0m\u001b[1;33m]\u001b[0m\u001b[1;33m*\u001b[0m\u001b[0mlen\u001b[0m\u001b[1;33m(\u001b[0m\u001b[0mdfLoadRawD\u001b[0m\u001b[1;33m.\u001b[0m\u001b[0mcolumns\u001b[0m\u001b[1;33m)\u001b[0m\u001b[1;33m)\u001b[0m\u001b[1;33m)\u001b[0m\u001b[1;33m\u001b[0m\u001b[1;33m\u001b[0m\u001b[0m\n\u001b[1;32m----> 4\u001b[1;33m     \u001b[0mcursor\u001b[0m\u001b[1;33m.\u001b[0m\u001b[0mexecute\u001b[0m\u001b[1;33m(\u001b[0m\u001b[0msql\u001b[0m\u001b[1;33m,\u001b[0m \u001b[0mtuple\u001b[0m\u001b[1;33m(\u001b[0m\u001b[0mrow\u001b[0m\u001b[1;33m[\u001b[0m\u001b[1;36m1\u001b[0m\u001b[1;33m]\u001b[0m\u001b[1;33m)\u001b[0m\u001b[1;33m)\u001b[0m\u001b[1;33m\u001b[0m\u001b[1;33m\u001b[0m\u001b[0m\n\u001b[0m\u001b[0;32m      5\u001b[0m \u001b[0mconn\u001b[0m\u001b[1;33m.\u001b[0m\u001b[0mcommit\u001b[0m\u001b[1;33m(\u001b[0m\u001b[1;33m)\u001b[0m\u001b[1;33m\u001b[0m\u001b[1;33m\u001b[0m\u001b[0m\n\u001b[0;32m      6\u001b[0m \u001b[1;33m\u001b[0m\u001b[0m\n",
      "\u001b[1;31mIntegrityError\u001b[0m: ('23000', \"[23000] [Microsoft][ODBC SQL Server Driver][SQL Server]Violation of PRIMARY KEY constraint 'PK_Deaths'. Cannot insert duplicate key in object 'dbo.Deaths'. The duplicate key value is (1). (2627) (SQLExecDirectW); [23000] [Microsoft][ODBC SQL Server Driver][SQL Server]The statement has been terminated. (3621)\")"
     ]
    }
   ],
   "source": [
    "cursor = conn.cursor()\n",
    "for row in dfLoadRawD.iterrows():\n",
    "    sql = 'INSERT INTO Deaths ({}) VALUES  ({})'.format(' ,'.join(dfLoadRawD.columns), ','.join(['?']*len(dfLoadRawD.columns)))\n",
    "    cursor.execute(sql, tuple(row[1]))\n",
    "conn.commit()\n",
    "\n",
    "for row in dfLoadRawC.iterrows():\n",
    "    sql = 'INSERT INTO Cases ({}) VALUES  ({})'.format(' ,'.join(dfLoadRawC.columns), ','.join(['?']*len(dfLoadRawC.columns)))\n",
    "    cursor.execute(sql, tuple(row[1]))\n",
    "conn.commit()"
   ]
  },
  {
   "cell_type": "markdown",
   "metadata": {},
   "source": [
    "Query database to confirm and export to CSV"
   ]
  },
  {
   "cell_type": "code",
   "execution_count": 22,
   "metadata": {},
   "outputs": [],
   "source": [
    "Cases_Query = pd.read_sql_query(\n",
    "\n",
    "'''\n",
    "    SELECT Cases, Ward, Date\n",
    "    FROM Cases\n",
    "    Inner JOIN Wards ON Cases.WardID=Wards.WardID;\n",
    "'''\n",
    "    , conn)\n",
    "dfCasesPull = pd.DataFrame(Cases_Query)\n",
    "\n",
    "Deaths_Query = pd.read_sql_query(\n",
    "\n",
    "'''\n",
    "    SELECT Deaths, Ward, Date\n",
    "    FROM Deaths\n",
    "    Inner JOIN Wards ON Deaths.WardID=Wards.WardID;\n",
    "'''\n",
    "    , conn)\n",
    "dfDeathsPull = pd.DataFrame(Deaths_Query)\n",
    "\n",
    "Cases_Query.to_csv('C:/Users/Mark/Documents/SQLCases.csv')\n",
    "Deaths_Query.to_csv('C:/Users/Mark/Documents/SQLDeaths.csv')"
   ]
  },
  {
   "cell_type": "code",
   "execution_count": null,
   "metadata": {},
   "outputs": [],
   "source": []
  },
  {
   "cell_type": "code",
   "execution_count": null,
   "metadata": {},
   "outputs": [],
   "source": []
  }
 ],
 "metadata": {
  "kernelspec": {
   "display_name": "Python 3",
   "language": "python",
   "name": "python3"
  },
  "language_info": {
   "codemirror_mode": {
    "name": "ipython",
    "version": 3
   },
   "file_extension": ".py",
   "mimetype": "text/x-python",
   "name": "python",
   "nbconvert_exporter": "python",
   "pygments_lexer": "ipython3",
   "version": "3.7.3"
  }
 },
 "nbformat": 4,
 "nbformat_minor": 2
}
